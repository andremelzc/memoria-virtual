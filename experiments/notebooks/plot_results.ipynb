{
 "cells": [
  {
   "cell_type": "code",
   "execution_count": null,
   "id": "46f65c1a",
   "metadata": {},
   "outputs": [
    {
     "ename": "",
     "evalue": "",
     "output_type": "error",
     "traceback": [
      "\u001b[1;31mRunning cells with '.venv (Python 3.11.7)' requires the ipykernel package.\n",
      "\u001b[1;31mInstall 'ipykernel' into the Python environment. \n",
      "\u001b[1;31mCommand: '\"c:/Users/Giancarlo/Desktop/UNMSM/Material 6to ciclo/Sistemas operativos/Proyecto/.venv/bin/python.exe\" -m pip install ipykernel -U --force-reinstall'"
     ]
    }
   ],
   "source": [
    "import pandas as pd\n",
    "import matplotlib.pyplot as plt\n",
    "\n",
    "df = pd.read_csv(\"../results.csv\")\n",
    "\n",
    "plt.figure(figsize=(8,5))\n",
    "for algo in df[\"algorithm\"].unique():\n",
    "    subset = df[df[\"algorithm\"] == algo]\n",
    "    plt.plot(subset[\"frames\"], subset[\"hit_ratio\"], marker='o', label=algo)\n",
    "\n",
    "plt.xlabel(\"Frames de memoria\")\n",
    "plt.ylabel(\"Hit ratio\")\n",
    "plt.title(\"Comparación de algoritmos de reemplazo de página\")\n",
    "plt.legend()\n",
    "plt.grid(True)\n",
    "plt.show()\n"
   ]
  }
 ],
 "metadata": {
  "kernelspec": {
   "display_name": ".venv",
   "language": "python",
   "name": "python3"
  },
  "language_info": {
   "codemirror_mode": {
    "name": "ipython",
    "version": 3
   },
   "file_extension": ".py",
   "mimetype": "text/x-python",
   "name": "python",
   "nbconvert_exporter": "python",
   "pygments_lexer": "ipython3",
   "version": "3.11.7"
  }
 },
 "nbformat": 4,
 "nbformat_minor": 5
}
